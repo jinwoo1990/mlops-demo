{
 "cells": [
  {
   "cell_type": "code",
   "execution_count": null,
   "metadata": {
    "pycharm": {
     "name": "#%%\n"
    }
   },
   "outputs": [],
   "source": [
    "# # Use the latest version of pip.\n",
    "# !pip install --upgrade pip\n",
    "# # Install tfx and kfp Python packages.\n",
    "# !pip install --upgrade \"tfx[kfp]<2\"\n",
    "# !pip install python-dotenv"
   ]
  },
  {
   "cell_type": "code",
   "execution_count": null,
   "metadata": {},
   "outputs": [],
   "source": [
    "# Read GCP project id from env.\n",
    "shell_output=!gcloud config list --format 'value(core.project)' 2>/dev/null\n",
    "GOOGLE_CLOUD_PROJECT=shell_output[0]\n",
    "%env GOOGLE_CLOUD_PROJECT={GOOGLE_CLOUD_PROJECT}\n",
    "print(\"GCP project ID:\" + GOOGLE_CLOUD_PROJECT)\n",
    "\n",
    "PIPELINE_NAME_BASE = 'advert_pipeline'\n",
    "PIPELINE_NAME_DAILY = 'advert_pipeline_daily'\n",
    "PIPELINE_NAME_TUNER = 'advert_pipeline_tuner'\n",
    "GIT_REPO_NAME = 'mlops-demo'\n",
    "PROJECT_DIR=os.path.join(os.path.expanduser(\"~\"), GIT_REPO_NAME, 'pipelines', PIPELINE_NAME_BASE)\n",
    "\n",
    "%cd {PROJECT_DIR}"
   ]
  },
  {
   "cell_type": "code",
   "execution_count": null,
   "metadata": {},
   "outputs": [],
   "source": [
    "import sys\n",
    "import os\n",
    "import kfp\n",
    "from utils import kfp_utils"
   ]
  },
  {
   "cell_type": "code",
   "execution_count": null,
   "metadata": {},
   "outputs": [],
   "source": [
    "# Git에서 제외된 .env 파일 생성 (advert_pipeline 디렉토리)\n",
    "\"\"\"\n",
    "MYSQL_HOST = 11.333.11.222\n",
    "MYSQL_PORT = 3306\n",
    "MYSQL_DATABASE = advert_metadata\n",
    "MYSQL_USERNAME = root\n",
    "MYSQL_PASSWORD = abcdefg\n",
    "LOCAL_METADATA_PATH=/home/.../temp/tfx-output/tfx_metadata/advert_pipeline/metadata.db\n",
    "\"\"\""
   ]
  },
  {
   "cell_type": "code",
   "execution_count": null,
   "metadata": {},
   "outputs": [],
   "source": [
    "# Kubeflow endpoint\n",
    "ENDPOINT='' # Enter your ENDPOINT here.\n",
    "if not ENDPOINT:\n",
    "    from absl import logging\n",
    "    logging.error('Set your ENDPOINT in this cell.')"
   ]
  },
  {
   "cell_type": "code",
   "execution_count": null,
   "metadata": {},
   "outputs": [],
   "source": [
    "from dotenv import load_dotenv\n",
    "\n",
    "load_dotenv('.env')  # load secret env"
   ]
  },
  {
   "cell_type": "markdown",
   "metadata": {},
   "source": [
    "### Tuner Pipeline"
   ]
  },
  {
   "cell_type": "code",
   "execution_count": null,
   "metadata": {},
   "outputs": [],
   "source": [
    "# Create pipeline\n",
    "!tfx pipeline create --pipeline-path=kubeflow_runner_with_tuner.py --endpoint={ENDPOINT} \\\n",
    "--build-image"
   ]
  },
  {
   "cell_type": "code",
   "execution_count": null,
   "metadata": {},
   "outputs": [],
   "source": [
    "# Run pipeline\n",
    "!tfx run create --pipeline-name={PIPELINE_NAME_TUNER} --endpoint={ENDPOINT}"
   ]
  },
  {
   "cell_type": "code",
   "execution_count": null,
   "metadata": {},
   "outputs": [],
   "source": [
    "# Update pipeline\n",
    "!tfx pipeline update \\\n",
    "--pipeline-path=kubeflow_runner_with_tuner.py \\\n",
    "--endpoint={ENDPOINT} --build-image\n",
    "# !tfx run create --pipeline-name={PIPELINE_NAME_DAILY} --endpoint={ENDPOINT}"
   ]
  },
  {
   "cell_type": "code",
   "execution_count": null,
   "metadata": {},
   "outputs": [],
   "source": [
    "# Create Recurring run\n",
    "kfp_utils.create_custom_recurring_runs(host=ENDPOINT, \n",
    "                                       experiment_id='31qaq32...',  # kfp client create experiment로 생성 후 list로 id 확인\n",
    "                                       job_name='hp_tuning', \n",
    "                                       description='weekly hyperparameters tuning', \n",
    "                                       start_time='2022-05-01T09:00:00Z', \n",
    "                                       end_time='2022-05-31T09:00:00Z', \n",
    "                                       cron_expression='0 5 0 * * 6',  # 토요일 00:05 마다 run\n",
    "                                       pipeline_id='23dkf92...',  #  \n",
    "                                       version_id='51lpe39...', # version이 pipeline보다 우선\n",
    "                                       no_catchup=False)"
   ]
  },
  {
   "cell_type": "markdown",
   "metadata": {},
   "source": [
    "### Daily Pipeline"
   ]
  },
  {
   "cell_type": "code",
   "execution_count": null,
   "metadata": {},
   "outputs": [],
   "source": [
    "# Create pipeline\n",
    "!tfx pipeline create --pipeline-path=kubeflow_runner.py --endpoint={ENDPOINT} \\\n",
    "--build-image"
   ]
  },
  {
   "cell_type": "code",
   "execution_count": null,
   "metadata": {},
   "outputs": [],
   "source": [
    "# Run pipeline\n",
    "!tfx run create --pipeline-name={PIPELINE_NAME_DAILY} --endpoint={ENDPOINT}"
   ]
  },
  {
   "cell_type": "code",
   "execution_count": null,
   "metadata": {},
   "outputs": [],
   "source": [
    "# Update pipeline\n",
    "!tfx pipeline update \\\n",
    "--pipeline-path=kubeflow_runner.py \\\n",
    "--endpoint={ENDPOINT} --build-image\n",
    "# !tfx run create --pipeline-name={PIPELINE_NAME_DAILY} --endpoint={ENDPOINT}"
   ]
  },
  {
   "cell_type": "code",
   "execution_count": null,
   "metadata": {},
   "outputs": [],
   "source": [
    "# Create Recurring run\n",
    "kfp_utils.create_custom_recurring_runs(host=ENDPOINT, \n",
    "                                       experiment_id='91naq32...',  # kfp client create experiment로 생성 후 list로 id 확인\n",
    "                                       job_name='daily_training', \n",
    "                                       description='daily model training', \n",
    "                                       start_time='2022-05-01T09:00:00Z', \n",
    "                                       end_time='2022-05-31T09:00:00Z', \n",
    "                                       cron_expression='0 5 0 * * 1,2,3,4,5,7',  # 매일 00:05 마다 run (토요일 제외)\n",
    "                                       pipeline_id='83dkf12...',  #  \n",
    "                                       version_id='29lue39...', # version이 pipeline보다 우선\n",
    "                                       no_catchup=False)"
   ]
  }
 ],
 "metadata": {
  "environment": {
   "kernel": "python3",
   "name": "tf2-gpu.2-6.m91",
   "type": "gcloud",
   "uri": "gcr.io/deeplearning-platform-release/tf2-gpu.2-6:m91"
  },
  "kernelspec": {
   "display_name": "Python 3",
   "language": "python",
   "name": "python3"
  },
  "language_info": {
   "codemirror_mode": {
    "name": "ipython",
    "version": 3
   },
   "file_extension": ".py",
   "mimetype": "text/x-python",
   "name": "python",
   "nbconvert_exporter": "python",
   "pygments_lexer": "ipython3",
   "version": "3.7.12"
  }
 },
 "nbformat": 4,
 "nbformat_minor": 4
}
