{
 "cells": [
  {
   "cell_type": "markdown",
   "id": "f5f30b27-0452-43ac-aca2-a4fd724e4aac",
   "metadata": {},
   "source": [
    "## Pipeline 용 Customized schema 만들기"
   ]
  },
  {
   "cell_type": "markdown",
   "id": "0ac208ae-e5f9-4381-8463-ef1910a2a5f6",
   "metadata": {},
   "source": [
    "- 아래 예시는 한 번이라도 Schema 없이 pipeline 돌려봤다는 가정 하에 가장 최근 Schema를 불러와서 진행\n",
    "- Schema에 기본적으로 infer 된 사항 외에 추가적인 제약 사항 부여\n",
    "- 실제 분석 시에는 여러 Stats을 가져와 비교해보고 도메인 지식을 더해 Schema 커스터마이징\n",
    "- Skew 값의 경우도 비교해보면서 적정값을 찾아야 함\n",
    "- Skew 관련 참조 내용: https://github.com/jinwoo1990/mlops-with-tensorflow/blob/main/tfdv/tfdv_skew_metrics.ipynb"
   ]
  },
  {
   "cell_type": "code",
   "execution_count": 1,
   "id": "7f11a663-5cf2-4857-bf06-d528cb17c0af",
   "metadata": {},
   "outputs": [],
   "source": [
    "import os\n",
    "from dotenv import load_dotenv\n",
    "import ml_metadata as mlmd\n",
    "from ml_metadata import metadata_store\n",
    "from ml_metadata.proto import metadata_store_pb2\n",
    "from tfx.types import standard_artifacts\n",
    "import tensorflow_data_validation as tfdv\n",
    "from tensorflow_metadata.proto.v0 import schema_pb2"
   ]
  },
  {
   "cell_type": "code",
   "execution_count": 2,
   "id": "42b25bae-c39f-4e9a-89b8-178fd71ef0e1",
   "metadata": {},
   "outputs": [
    {
     "data": {
      "text/plain": [
       "True"
      ]
     },
     "execution_count": 2,
     "metadata": {},
     "output_type": "execute_result"
    }
   ],
   "source": [
    "ENV_FILE_DIR = os.path.join(os.getcwd(), '.env')\n",
    "load_dotenv(ENV_FILE_DIR)  # load secret env"
   ]
  },
  {
   "cell_type": "code",
   "execution_count": 43,
   "id": "9c7b11aa-69f6-465e-9db5-26a31c0b0cd1",
   "metadata": {},
   "outputs": [],
   "source": [
    "connection_config = metadata_store_pb2.ConnectionConfig()\n",
    "connection_config.mysql.host = os.environ.get('MYSQL_HOST')\n",
    "connection_config.mysql.port = int(os.environ.get('MYSQL_PORT'))\n",
    "connection_config.mysql.database = os.environ.get('MYSQL_DATABASE')\n",
    "connection_config.mysql.user = os.environ.get('MYSQL_USERNAME')\n",
    "connection_config.mysql.password = os.environ.get('MYSQL_PASSWORD')\n",
    "store = metadata_store.MetadataStore(connection_config,\n",
    "                                     enable_upgrade_migration=True)\n",
    "mlmd.downgrade_schema(\n",
    "    config=connection_config,\n",
    "    downgrade_to_schema_version=6\n",
    ")  # 버전 호환 문제로 작성"
   ]
  },
  {
   "cell_type": "code",
   "execution_count": 4,
   "id": "f3dc6ab6-cc76-48c5-942f-7da17e64effa",
   "metadata": {},
   "outputs": [],
   "source": [
    "artifact_types = store.get_artifact_types()\n",
    "artifact_types = [artifact_type.name for artifact_type in artifact_types]"
   ]
  },
  {
   "cell_type": "code",
   "execution_count": 5,
   "id": "7a66f661-10cf-4f5a-862d-eb3b8868c971",
   "metadata": {},
   "outputs": [
    {
     "data": {
      "text/plain": [
       "['Examples',\n",
       " 'ExampleStatistics',\n",
       " 'Schema',\n",
       " 'ExampleAnomalies',\n",
       " 'TransformGraph',\n",
       " 'TransformCache',\n",
       " 'ModelRun',\n",
       " 'Model',\n",
       " 'ModelBlessing',\n",
       " 'ModelEvaluation',\n",
       " 'PushedModel',\n",
       " 'HyperParameters']"
      ]
     },
     "execution_count": 5,
     "metadata": {},
     "output_type": "execute_result"
    }
   ],
   "source": [
    "artifact_types"
   ]
  },
  {
   "cell_type": "code",
   "execution_count": 23,
   "id": "7c89c6f6-7a47-4a77-87a2-17143d0d02df",
   "metadata": {},
   "outputs": [],
   "source": [
    "temp = store.get_artifacts_by_type('ExampleStatistics')"
   ]
  },
  {
   "cell_type": "code",
   "execution_count": 41,
   "id": "ca3bfc7c-1d64-4e94-b9f4-22b89d3ff88d",
   "metadata": {},
   "outputs": [],
   "source": [
    "stats_path = 'gs://tfx-project-348306-pipelines/tfx_pipeline_output/advert_pipeline/StatisticsGen/statistics/20'\n",
    "train_stats_file = os.path.join(stats_path, 'Split-train', 'stats_tfrecord')"
   ]
  },
  {
   "cell_type": "code",
   "execution_count": 42,
   "id": "cd4281f1-ff99-45ff-8641-5afc0cd5f0d1",
   "metadata": {},
   "outputs": [
    {
     "ename": "OSError",
     "evalue": "Invalid input path gs://tfx-project-348306-pipelines/tfx_pipeline_output/advert_pipeline/StatisticsGen/statistics/20/Split-train/stats_tfrecord.",
     "output_type": "error",
     "traceback": [
      "\u001b[0;31m---------------------------------------------------------------------------\u001b[0m",
      "\u001b[0;31mOSError\u001b[0m                                   Traceback (most recent call last)",
      "\u001b[0;32m/tmp/ipykernel_16166/1192107800.py\u001b[0m in \u001b[0;36m<module>\u001b[0;34m\u001b[0m\n\u001b[0;32m----> 1\u001b[0;31m \u001b[0ma\u001b[0m \u001b[0;34m=\u001b[0m \u001b[0mtfdv\u001b[0m\u001b[0;34m.\u001b[0m\u001b[0mload_statistics\u001b[0m\u001b[0;34m(\u001b[0m\u001b[0mtrain_stats_file\u001b[0m\u001b[0;34m)\u001b[0m\u001b[0;34m\u001b[0m\u001b[0;34m\u001b[0m\u001b[0m\n\u001b[0m",
      "\u001b[0;32m/opt/conda/lib/python3.7/site-packages/tensorflow_data_validation/utils/stats_util.py\u001b[0m in \u001b[0;36mload_statistics\u001b[0;34m(input_path)\u001b[0m\n\u001b[1;32m    360\u001b[0m   \"\"\"\n\u001b[1;32m    361\u001b[0m   \u001b[0;32mif\u001b[0m \u001b[0;32mnot\u001b[0m \u001b[0mtf\u001b[0m\u001b[0;34m.\u001b[0m\u001b[0mio\u001b[0m\u001b[0;34m.\u001b[0m\u001b[0mgfile\u001b[0m\u001b[0;34m.\u001b[0m\u001b[0mexists\u001b[0m\u001b[0;34m(\u001b[0m\u001b[0minput_path\u001b[0m\u001b[0;34m)\u001b[0m\u001b[0;34m:\u001b[0m\u001b[0;34m\u001b[0m\u001b[0;34m\u001b[0m\u001b[0m\n\u001b[0;32m--> 362\u001b[0;31m     \u001b[0;32mraise\u001b[0m \u001b[0mIOError\u001b[0m\u001b[0;34m(\u001b[0m\u001b[0;34m'Invalid input path {}.'\u001b[0m\u001b[0;34m.\u001b[0m\u001b[0mformat\u001b[0m\u001b[0;34m(\u001b[0m\u001b[0minput_path\u001b[0m\u001b[0;34m)\u001b[0m\u001b[0;34m)\u001b[0m\u001b[0;34m\u001b[0m\u001b[0;34m\u001b[0m\u001b[0m\n\u001b[0m\u001b[1;32m    363\u001b[0m   \u001b[0;32mtry\u001b[0m\u001b[0;34m:\u001b[0m\u001b[0;34m\u001b[0m\u001b[0;34m\u001b[0m\u001b[0m\n\u001b[1;32m    364\u001b[0m     \u001b[0;32mreturn\u001b[0m \u001b[0mload_stats_tfrecord\u001b[0m\u001b[0;34m(\u001b[0m\u001b[0minput_path\u001b[0m\u001b[0;34m)\u001b[0m\u001b[0;34m\u001b[0m\u001b[0;34m\u001b[0m\u001b[0m\n",
      "\u001b[0;31mOSError\u001b[0m: Invalid input path gs://tfx-project-348306-pipelines/tfx_pipeline_output/advert_pipeline/StatisticsGen/statistics/20/Split-train/stats_tfrecord."
     ]
    }
   ],
   "source": [
    "a = tfdv.load_statistics(train_stats_file)"
   ]
  },
  {
   "cell_type": "code",
   "execution_count": 37,
   "id": "0debf4f3-d027-44d0-aa09-a71b3082767e",
   "metadata": {},
   "outputs": [
    {
     "ename": "ValueError",
     "evalue": "lhs_statistics proto contains no dataset.",
     "output_type": "error",
     "traceback": [
      "\u001b[0;31m---------------------------------------------------------------------------\u001b[0m",
      "\u001b[0;31mValueError\u001b[0m                                Traceback (most recent call last)",
      "\u001b[0;32m/tmp/ipykernel_16166/3757951466.py\u001b[0m in \u001b[0;36m<module>\u001b[0;34m\u001b[0m\n\u001b[0;32m----> 1\u001b[0;31m \u001b[0mtfdv\u001b[0m\u001b[0;34m.\u001b[0m\u001b[0mvisualize_statistics\u001b[0m\u001b[0;34m(\u001b[0m\u001b[0ma\u001b[0m\u001b[0;34m)\u001b[0m\u001b[0;34m\u001b[0m\u001b[0;34m\u001b[0m\u001b[0m\n\u001b[0m",
      "\u001b[0;32m/opt/conda/lib/python3.7/site-packages/tensorflow_data_validation/utils/display_util.py\u001b[0m in \u001b[0;36mvisualize_statistics\u001b[0;34m(lhs_statistics, rhs_statistics, lhs_name, rhs_name, allowlist_features, denylist_features)\u001b[0m\n\u001b[1;32m    413\u001b[0m       'Only specify one of allowlist_features and denylist_features.')\n\u001b[1;32m    414\u001b[0m   html = get_statistics_html(lhs_statistics, rhs_statistics, lhs_name, rhs_name,\n\u001b[0;32m--> 415\u001b[0;31m                              allowlist_features, denylist_features)\n\u001b[0m\u001b[1;32m    416\u001b[0m   \u001b[0mdisplay\u001b[0m\u001b[0;34m(\u001b[0m\u001b[0mHTML\u001b[0m\u001b[0;34m(\u001b[0m\u001b[0mhtml\u001b[0m\u001b[0;34m)\u001b[0m\u001b[0;34m)\u001b[0m\u001b[0;34m\u001b[0m\u001b[0;34m\u001b[0m\u001b[0m\n\u001b[1;32m    417\u001b[0m \u001b[0;34m\u001b[0m\u001b[0m\n",
      "\u001b[0;32m/opt/conda/lib/python3.7/site-packages/tensorflow_data_validation/utils/display_util.py\u001b[0m in \u001b[0;36mget_statistics_html\u001b[0;34m(lhs_statistics, rhs_statistics, lhs_name, rhs_name, allowlist_features, denylist_features)\u001b[0m\n\u001b[1;32m    359\u001b[0m   combined_statistics = _get_combined_statistics(\n\u001b[1;32m    360\u001b[0m       \u001b[0mlhs_statistics\u001b[0m\u001b[0;34m,\u001b[0m \u001b[0mrhs_statistics\u001b[0m\u001b[0;34m,\u001b[0m \u001b[0mlhs_name\u001b[0m\u001b[0;34m,\u001b[0m \u001b[0mrhs_name\u001b[0m\u001b[0;34m,\u001b[0m \u001b[0mallowlist_features\u001b[0m\u001b[0;34m,\u001b[0m\u001b[0;34m\u001b[0m\u001b[0;34m\u001b[0m\u001b[0m\n\u001b[0;32m--> 361\u001b[0;31m       denylist_features)\n\u001b[0m\u001b[1;32m    362\u001b[0m   protostr = base64.b64encode(\n\u001b[1;32m    363\u001b[0m       combined_statistics.SerializeToString()).decode('utf-8')\n",
      "\u001b[0;32m/opt/conda/lib/python3.7/site-packages/tensorflow_data_validation/utils/display_util.py\u001b[0m in \u001b[0;36m_get_combined_statistics\u001b[0;34m(lhs_statistics, rhs_statistics, lhs_name, rhs_name, allowlist_features, denylist_features)\u001b[0m\n\u001b[1;32m    285\u001b[0m \u001b[0;34m\u001b[0m\u001b[0m\n\u001b[1;32m    286\u001b[0m   \u001b[0;32mif\u001b[0m \u001b[0;32mnot\u001b[0m \u001b[0mlhs_statistics\u001b[0m\u001b[0;34m.\u001b[0m\u001b[0mdatasets\u001b[0m\u001b[0;34m:\u001b[0m\u001b[0;34m\u001b[0m\u001b[0;34m\u001b[0m\u001b[0m\n\u001b[0;32m--> 287\u001b[0;31m     \u001b[0;32mraise\u001b[0m \u001b[0mValueError\u001b[0m\u001b[0;34m(\u001b[0m\u001b[0;34m'lhs_statistics proto contains no dataset.'\u001b[0m\u001b[0;34m)\u001b[0m\u001b[0;34m\u001b[0m\u001b[0;34m\u001b[0m\u001b[0m\n\u001b[0m\u001b[1;32m    288\u001b[0m \u001b[0;34m\u001b[0m\u001b[0m\n\u001b[1;32m    289\u001b[0m   \u001b[0;32mif\u001b[0m \u001b[0mlen\u001b[0m\u001b[0;34m(\u001b[0m\u001b[0mlhs_statistics\u001b[0m\u001b[0;34m.\u001b[0m\u001b[0mdatasets\u001b[0m\u001b[0;34m)\u001b[0m \u001b[0;34m!=\u001b[0m \u001b[0;36m1\u001b[0m\u001b[0;34m:\u001b[0m\u001b[0;34m\u001b[0m\u001b[0;34m\u001b[0m\u001b[0m\n",
      "\u001b[0;31mValueError\u001b[0m: lhs_statistics proto contains no dataset."
     ]
    }
   ],
   "source": [
    "tfdv.visualize_statistics(a)"
   ]
  },
  {
   "cell_type": "code",
   "execution_count": 6,
   "id": "08588e12-e441-460b-b147-aeeb2c5601ab",
   "metadata": {},
   "outputs": [],
   "source": [
    "schema_artifacts = store.get_artifacts_by_type('Schema')"
   ]
  },
  {
   "cell_type": "code",
   "execution_count": 7,
   "id": "b78b390f-9a81-492f-ba85-761af6c7d2b2",
   "metadata": {},
   "outputs": [
    {
     "name": "stdout",
     "output_type": "stream",
     "text": [
      "gs://tfx-project-348306-pipelines/tfx_pipeline_output/advert_pipeline/SchemaGen/schema/184\n"
     ]
    }
   ],
   "source": [
    "# SchemaGen으로 부터 생성된 Schema Aritfact만 골라주기\n",
    "schema_uri_list = []\n",
    "\n",
    "for schema_artifact in schema_artifacts:\n",
    "    schema_uri = schema_artifact.uri\n",
    "    if 'SchemaGen' in schema_uri:\n",
    "        # print(schema_uri)\n",
    "        schema_uri_list.append(schema_uri)\n",
    "\n",
    "print(schema_uri_list[-1])"
   ]
  },
  {
   "cell_type": "code",
   "execution_count": 8,
   "id": "9c26f08b-50b6-4c5c-b731-2b1accbc71ad",
   "metadata": {},
   "outputs": [],
   "source": [
    "# Schema 불러오기\n",
    "# 이렇게 할 수도 있고 stats으로부터 불러와서 tfdv로 infer schema 할 수도 있음\n",
    "\n",
    "schema_file = os.path.join(schema_uri_list[-1], 'schema.pbtxt')\n",
    "schema = tfdv.load_schema_text(schema_file)"
   ]
  },
  {
   "cell_type": "code",
   "execution_count": 9,
   "id": "b6419edb-bdbc-401d-b306-764200bea49a",
   "metadata": {},
   "outputs": [
    {
     "data": {
      "text/html": [
       "<div>\n",
       "<style scoped>\n",
       "    .dataframe tbody tr th:only-of-type {\n",
       "        vertical-align: middle;\n",
       "    }\n",
       "\n",
       "    .dataframe tbody tr th {\n",
       "        vertical-align: top;\n",
       "    }\n",
       "\n",
       "    .dataframe thead th {\n",
       "        text-align: right;\n",
       "    }\n",
       "</style>\n",
       "<table border=\"1\" class=\"dataframe\">\n",
       "  <thead>\n",
       "    <tr style=\"text-align: right;\">\n",
       "      <th></th>\n",
       "      <th>Type</th>\n",
       "      <th>Presence</th>\n",
       "      <th>Valency</th>\n",
       "      <th>Domain</th>\n",
       "    </tr>\n",
       "    <tr>\n",
       "      <th>Feature name</th>\n",
       "      <th></th>\n",
       "      <th></th>\n",
       "      <th></th>\n",
       "      <th></th>\n",
       "    </tr>\n",
       "  </thead>\n",
       "  <tbody>\n",
       "    <tr>\n",
       "      <th>'AdTopicLine'</th>\n",
       "      <td>BYTES</td>\n",
       "      <td>required</td>\n",
       "      <td></td>\n",
       "      <td>-</td>\n",
       "    </tr>\n",
       "    <tr>\n",
       "      <th>'City'</th>\n",
       "      <td>BYTES</td>\n",
       "      <td>required</td>\n",
       "      <td></td>\n",
       "      <td>-</td>\n",
       "    </tr>\n",
       "    <tr>\n",
       "      <th>'Country'</th>\n",
       "      <td>BYTES</td>\n",
       "      <td>required</td>\n",
       "      <td></td>\n",
       "      <td>-</td>\n",
       "    </tr>\n",
       "    <tr>\n",
       "      <th>'Timestamp'</th>\n",
       "      <td>BYTES</td>\n",
       "      <td>required</td>\n",
       "      <td></td>\n",
       "      <td>-</td>\n",
       "    </tr>\n",
       "    <tr>\n",
       "      <th>'Age'</th>\n",
       "      <td>INT</td>\n",
       "      <td>required</td>\n",
       "      <td></td>\n",
       "      <td>-</td>\n",
       "    </tr>\n",
       "    <tr>\n",
       "      <th>'AreaIncome'</th>\n",
       "      <td>FLOAT</td>\n",
       "      <td>required</td>\n",
       "      <td></td>\n",
       "      <td>-</td>\n",
       "    </tr>\n",
       "    <tr>\n",
       "      <th>'ClickedOnAd'</th>\n",
       "      <td>INT</td>\n",
       "      <td>required</td>\n",
       "      <td></td>\n",
       "      <td>-</td>\n",
       "    </tr>\n",
       "    <tr>\n",
       "      <th>'DailyInternetUsage'</th>\n",
       "      <td>FLOAT</td>\n",
       "      <td>required</td>\n",
       "      <td></td>\n",
       "      <td>-</td>\n",
       "    </tr>\n",
       "    <tr>\n",
       "      <th>'DailyTimeSpentOnSite'</th>\n",
       "      <td>FLOAT</td>\n",
       "      <td>required</td>\n",
       "      <td></td>\n",
       "      <td>-</td>\n",
       "    </tr>\n",
       "    <tr>\n",
       "      <th>'Male'</th>\n",
       "      <td>INT</td>\n",
       "      <td>required</td>\n",
       "      <td></td>\n",
       "      <td>-</td>\n",
       "    </tr>\n",
       "  </tbody>\n",
       "</table>\n",
       "</div>"
      ],
      "text/plain": [
       "                         Type  Presence Valency Domain\n",
       "Feature name                                          \n",
       "'AdTopicLine'           BYTES  required              -\n",
       "'City'                  BYTES  required              -\n",
       "'Country'               BYTES  required              -\n",
       "'Timestamp'             BYTES  required              -\n",
       "'Age'                     INT  required              -\n",
       "'AreaIncome'            FLOAT  required              -\n",
       "'ClickedOnAd'             INT  required              -\n",
       "'DailyInternetUsage'    FLOAT  required              -\n",
       "'DailyTimeSpentOnSite'  FLOAT  required              -\n",
       "'Male'                    INT  required              -"
      ]
     },
     "metadata": {},
     "output_type": "display_data"
    }
   ],
   "source": [
    "tfdv.display_schema(schema)"
   ]
  },
  {
   "cell_type": "code",
   "execution_count": 10,
   "id": "f60aa874-e55d-47a4-b0ed-ef170bb9b29c",
   "metadata": {},
   "outputs": [
    {
     "data": {
      "text/plain": [
       "feature {\n",
       "  name: \"AdTopicLine\"\n",
       "  type: BYTES\n",
       "  presence {\n",
       "    min_fraction: 1.0\n",
       "    min_count: 1\n",
       "  }\n",
       "  shape {\n",
       "    dim {\n",
       "      size: 1\n",
       "    }\n",
       "  }\n",
       "}\n",
       "feature {\n",
       "  name: \"City\"\n",
       "  type: BYTES\n",
       "  presence {\n",
       "    min_fraction: 1.0\n",
       "    min_count: 1\n",
       "  }\n",
       "  shape {\n",
       "    dim {\n",
       "      size: 1\n",
       "    }\n",
       "  }\n",
       "}\n",
       "feature {\n",
       "  name: \"Country\"\n",
       "  type: BYTES\n",
       "  presence {\n",
       "    min_fraction: 1.0\n",
       "    min_count: 1\n",
       "  }\n",
       "  shape {\n",
       "    dim {\n",
       "      size: 1\n",
       "    }\n",
       "  }\n",
       "}\n",
       "feature {\n",
       "  name: \"Timestamp\"\n",
       "  type: BYTES\n",
       "  presence {\n",
       "    min_fraction: 1.0\n",
       "    min_count: 1\n",
       "  }\n",
       "  shape {\n",
       "    dim {\n",
       "      size: 1\n",
       "    }\n",
       "  }\n",
       "}\n",
       "feature {\n",
       "  name: \"Age\"\n",
       "  type: INT\n",
       "  presence {\n",
       "    min_fraction: 1.0\n",
       "    min_count: 1\n",
       "  }\n",
       "  shape {\n",
       "    dim {\n",
       "      size: 1\n",
       "    }\n",
       "  }\n",
       "}\n",
       "feature {\n",
       "  name: \"AreaIncome\"\n",
       "  type: FLOAT\n",
       "  presence {\n",
       "    min_fraction: 1.0\n",
       "    min_count: 1\n",
       "  }\n",
       "  shape {\n",
       "    dim {\n",
       "      size: 1\n",
       "    }\n",
       "  }\n",
       "}\n",
       "feature {\n",
       "  name: \"ClickedOnAd\"\n",
       "  type: INT\n",
       "  bool_domain {\n",
       "  }\n",
       "  presence {\n",
       "    min_fraction: 1.0\n",
       "    min_count: 1\n",
       "  }\n",
       "  shape {\n",
       "    dim {\n",
       "      size: 1\n",
       "    }\n",
       "  }\n",
       "}\n",
       "feature {\n",
       "  name: \"DailyInternetUsage\"\n",
       "  type: FLOAT\n",
       "  presence {\n",
       "    min_fraction: 1.0\n",
       "    min_count: 1\n",
       "  }\n",
       "  shape {\n",
       "    dim {\n",
       "      size: 1\n",
       "    }\n",
       "  }\n",
       "}\n",
       "feature {\n",
       "  name: \"DailyTimeSpentOnSite\"\n",
       "  type: FLOAT\n",
       "  presence {\n",
       "    min_fraction: 1.0\n",
       "    min_count: 1\n",
       "  }\n",
       "  shape {\n",
       "    dim {\n",
       "      size: 1\n",
       "    }\n",
       "  }\n",
       "}\n",
       "feature {\n",
       "  name: \"Male\"\n",
       "  type: INT\n",
       "  bool_domain {\n",
       "  }\n",
       "  presence {\n",
       "    min_fraction: 1.0\n",
       "    min_count: 1\n",
       "  }\n",
       "  shape {\n",
       "    dim {\n",
       "      size: 1\n",
       "    }\n",
       "  }\n",
       "}"
      ]
     },
     "execution_count": 10,
     "metadata": {},
     "output_type": "execute_result"
    }
   ],
   "source": [
    "schema"
   ]
  },
  {
   "cell_type": "code",
   "execution_count": 11,
   "id": "2ad60ddb-308e-4188-a16d-dd5c7f034dcf",
   "metadata": {},
   "outputs": [
    {
     "data": {
      "text/plain": [
       "name: \"Age\"\n",
       "type: INT\n",
       "presence {\n",
       "  min_fraction: 1.0\n",
       "  min_count: 1\n",
       "}\n",
       "shape {\n",
       "  dim {\n",
       "    size: 1\n",
       "  }\n",
       "}"
      ]
     },
     "execution_count": 11,
     "metadata": {},
     "output_type": "execute_result"
    }
   ],
   "source": [
    "tfdv.get_feature(schema, 'Age')"
   ]
  },
  {
   "cell_type": "code",
   "execution_count": 12,
   "id": "566e702e-63dd-4a0e-9b93-c209e0aed4ad",
   "metadata": {},
   "outputs": [],
   "source": [
    "# domain 설정\n",
    "tfdv.set_domain(schema, 'Age', schema_pb2.IntDomain(name='age', min=17, max=100))"
   ]
  },
  {
   "cell_type": "code",
   "execution_count": 13,
   "id": "3d8d3b0d-0f1c-4d73-9cc9-9b81e95d291d",
   "metadata": {},
   "outputs": [],
   "source": [
    "# skew 설정\n",
    "for item in ['City', 'Country']:  # Bytes로 Feature가 읽혀서 STRING으로 읽도록 추후에 고치거나 방법 찾아야 할 듯\n",
    "    tfdv.get_feature(schema, item).skew_comparator.infinity_norm.threshold = 0.00000000000001  # 조정\n",
    "\n",
    "for item in ['Age', 'AreaIncome', 'DailyInternetUsage', 'DailyTimeSpentOnSite']:\n",
    "    tfdv.get_feature(schema, item).skew_comparator.jensen_shannon_divergence.threshold = 0.00000000000001  # 조정"
   ]
  },
  {
   "cell_type": "code",
   "execution_count": 14,
   "id": "7c418543-4539-4754-b2ee-a19d79ef52ee",
   "metadata": {},
   "outputs": [
    {
     "data": {
      "text/plain": [
       "feature {\n",
       "  name: \"AdTopicLine\"\n",
       "  type: BYTES\n",
       "  presence {\n",
       "    min_fraction: 1.0\n",
       "    min_count: 1\n",
       "  }\n",
       "  shape {\n",
       "    dim {\n",
       "      size: 1\n",
       "    }\n",
       "  }\n",
       "}\n",
       "feature {\n",
       "  name: \"City\"\n",
       "  type: BYTES\n",
       "  presence {\n",
       "    min_fraction: 1.0\n",
       "    min_count: 1\n",
       "  }\n",
       "  skew_comparator {\n",
       "    infinity_norm {\n",
       "      threshold: 1e-14\n",
       "    }\n",
       "  }\n",
       "  shape {\n",
       "    dim {\n",
       "      size: 1\n",
       "    }\n",
       "  }\n",
       "}\n",
       "feature {\n",
       "  name: \"Country\"\n",
       "  type: BYTES\n",
       "  presence {\n",
       "    min_fraction: 1.0\n",
       "    min_count: 1\n",
       "  }\n",
       "  skew_comparator {\n",
       "    infinity_norm {\n",
       "      threshold: 1e-14\n",
       "    }\n",
       "  }\n",
       "  shape {\n",
       "    dim {\n",
       "      size: 1\n",
       "    }\n",
       "  }\n",
       "}\n",
       "feature {\n",
       "  name: \"Timestamp\"\n",
       "  type: BYTES\n",
       "  presence {\n",
       "    min_fraction: 1.0\n",
       "    min_count: 1\n",
       "  }\n",
       "  shape {\n",
       "    dim {\n",
       "      size: 1\n",
       "    }\n",
       "  }\n",
       "}\n",
       "feature {\n",
       "  name: \"Age\"\n",
       "  type: INT\n",
       "  int_domain {\n",
       "    name: \"age\"\n",
       "    min: 17\n",
       "    max: 100\n",
       "  }\n",
       "  presence {\n",
       "    min_fraction: 1.0\n",
       "    min_count: 1\n",
       "  }\n",
       "  skew_comparator {\n",
       "    jensen_shannon_divergence {\n",
       "      threshold: 1e-14\n",
       "    }\n",
       "  }\n",
       "  shape {\n",
       "    dim {\n",
       "      size: 1\n",
       "    }\n",
       "  }\n",
       "}\n",
       "feature {\n",
       "  name: \"AreaIncome\"\n",
       "  type: FLOAT\n",
       "  presence {\n",
       "    min_fraction: 1.0\n",
       "    min_count: 1\n",
       "  }\n",
       "  skew_comparator {\n",
       "    jensen_shannon_divergence {\n",
       "      threshold: 1e-14\n",
       "    }\n",
       "  }\n",
       "  shape {\n",
       "    dim {\n",
       "      size: 1\n",
       "    }\n",
       "  }\n",
       "}\n",
       "feature {\n",
       "  name: \"ClickedOnAd\"\n",
       "  type: INT\n",
       "  bool_domain {\n",
       "  }\n",
       "  presence {\n",
       "    min_fraction: 1.0\n",
       "    min_count: 1\n",
       "  }\n",
       "  shape {\n",
       "    dim {\n",
       "      size: 1\n",
       "    }\n",
       "  }\n",
       "}\n",
       "feature {\n",
       "  name: \"DailyInternetUsage\"\n",
       "  type: FLOAT\n",
       "  presence {\n",
       "    min_fraction: 1.0\n",
       "    min_count: 1\n",
       "  }\n",
       "  skew_comparator {\n",
       "    jensen_shannon_divergence {\n",
       "      threshold: 1e-14\n",
       "    }\n",
       "  }\n",
       "  shape {\n",
       "    dim {\n",
       "      size: 1\n",
       "    }\n",
       "  }\n",
       "}\n",
       "feature {\n",
       "  name: \"DailyTimeSpentOnSite\"\n",
       "  type: FLOAT\n",
       "  presence {\n",
       "    min_fraction: 1.0\n",
       "    min_count: 1\n",
       "  }\n",
       "  skew_comparator {\n",
       "    jensen_shannon_divergence {\n",
       "      threshold: 1e-14\n",
       "    }\n",
       "  }\n",
       "  shape {\n",
       "    dim {\n",
       "      size: 1\n",
       "    }\n",
       "  }\n",
       "}\n",
       "feature {\n",
       "  name: \"Male\"\n",
       "  type: INT\n",
       "  bool_domain {\n",
       "  }\n",
       "  presence {\n",
       "    min_fraction: 1.0\n",
       "    min_count: 1\n",
       "  }\n",
       "  shape {\n",
       "    dim {\n",
       "      size: 1\n",
       "    }\n",
       "  }\n",
       "}"
      ]
     },
     "execution_count": 14,
     "metadata": {},
     "output_type": "execute_result"
    }
   ],
   "source": [
    "schema"
   ]
  },
  {
   "cell_type": "code",
   "execution_count": 15,
   "id": "76f4311f-d192-4f07-976b-6add6bf5f35b",
   "metadata": {},
   "outputs": [],
   "source": [
    "# 파일로 저장\n",
    "from tensorflow.python.lib.io import file_io\n",
    "\n",
    "OUTPUT_DIR = \"schema\"\n",
    "file_io.recursive_create_dir(OUTPUT_DIR)\n",
    "schema_file = os.path.join(OUTPUT_DIR, 'schema.pbtxt')\n",
    "tfdv.write_schema_text(schema, schema_file)"
   ]
  },
  {
   "cell_type": "code",
   "execution_count": 16,
   "id": "dd94aca6-dd4e-4bc6-b7fe-701591dc5644",
   "metadata": {},
   "outputs": [],
   "source": [
    "# 불러오기\n",
    "# loaded_schema = tfdv.load_schema_text('./schema/schema.pbtxt')\n",
    "# loaded_schema"
   ]
  }
 ],
 "metadata": {
  "environment": {
   "kernel": "python3",
   "name": "tf2-gpu.2-6.m91",
   "type": "gcloud",
   "uri": "gcr.io/deeplearning-platform-release/tf2-gpu.2-6:m91"
  },
  "kernelspec": {
   "display_name": "Python 3",
   "language": "python",
   "name": "python3"
  },
  "language_info": {
   "codemirror_mode": {
    "name": "ipython",
    "version": 3
   },
   "file_extension": ".py",
   "mimetype": "text/x-python",
   "name": "python",
   "nbconvert_exporter": "python",
   "pygments_lexer": "ipython3",
   "version": "3.7.12"
  }
 },
 "nbformat": 4,
 "nbformat_minor": 5
}
